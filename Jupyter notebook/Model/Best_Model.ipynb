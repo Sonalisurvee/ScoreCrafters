{
 "cells": [
  {
   "cell_type": "markdown",
   "id": "d71a05e4-1b06-4f3e-86f8-2f9a417f2967",
   "metadata": {},
   "source": [
    "Did the train test split on the data"
   ]
  },
  {
   "cell_type": "code",
   "execution_count": 1,
   "id": "7a9d378a-043b-49f1-a4a2-22aef6985155",
   "metadata": {},
   "outputs": [],
   "source": [
    "import pickle"
   ]
  },
  {
   "cell_type": "code",
   "execution_count": 2,
   "id": "77fd1a17-4295-4e09-8ed4-285acf134612",
   "metadata": {},
   "outputs": [],
   "source": [
    "with open('train_test_data.pkl', 'rb') as file:\n",
    "    x_train, x_test, y_train, y_test = pickle.load(file)"
   ]
  },
  {
   "cell_type": "code",
   "execution_count": 3,
   "id": "ce36eca7-f042-4fa9-a23b-0ebbde08a3fc",
   "metadata": {},
   "outputs": [],
   "source": [
    "from sklearn.compose import ColumnTransformer\n",
    "from sklearn.preprocessing import OneHotEncoder,StandardScaler\n",
    "from sklearn.pipeline import Pipeline\n",
    "from sklearn.metrics import r2_score,mean_absolute_error\n",
    "\n",
    "from sklearn.linear_model import LinearRegression\n",
    "from sklearn.metrics import mean_squared_error"
   ]
  },
  {
   "cell_type": "code",
   "execution_count": 5,
   "id": "6161dff7-8b9c-4b1d-9c5f-57f2de496ee4",
   "metadata": {},
   "outputs": [],
   "source": [
    "trf = ColumnTransformer([('trf',OneHotEncoder(sparse_output = False,drop = 'first'),['batting_team','bowling_team','city'])\n",
    "                        ]\n",
    "                       ,remainder = 'passthrough')"
   ]
  },
  {
   "cell_type": "markdown",
   "id": "3249cf33-9331-49b7-b7c4-58f8fdbdece7",
   "metadata": {},
   "source": [
    "## LinearRegression"
   ]
  },
  {
   "cell_type": "code",
   "execution_count": 6,
   "id": "eee38962-7d1d-42eb-81e8-2251912610b1",
   "metadata": {},
   "outputs": [],
   "source": [
    "lr_model = LinearRegression()\n",
    "\n",
    "lr_pipe = Pipeline(steps=[\n",
    "    ('step1',trf),\n",
    "    ('step2',StandardScaler()),\n",
    "    ('step3',lr_model)\n",
    "])\n",
    "\n",
    "lr_pipe.fit(x_train,y_train)\n",
    "lr_pred = lr_pipe.predict(x_test)\n",
    "lr_mse = mean_squared_error(y_test, lr_pred)\n",
    "lr_r2 = r2_score(y_test, lr_pred)\n",
    "lr_mar = mean_absolute_error(y_test, lr_pred)"
   ]
  },
  {
   "cell_type": "code",
   "execution_count": 7,
   "id": "5bf3cf8e-0132-46d2-9240-d3cb9e2d689f",
   "metadata": {},
   "outputs": [
    {
     "name": "stdout",
     "output_type": "stream",
     "text": [
      "Mean Squared Error: 186.98080588849706\n",
      "Mean Absolute Error: 9.422448189419034\n",
      "R-squared: 0.5926450298081365\n"
     ]
    }
   ],
   "source": [
    "print(f\"Mean Squared Error: {lr_mse}\")\n",
    "print(f\"Mean Absolute Error: {lr_mar}\")\n",
    "print(f\"R-squared: {lr_r2}\")"
   ]
  },
  {
   "cell_type": "markdown",
   "id": "81ec7207-a63a-4f0e-a098-ddde7b3410a2",
   "metadata": {},
   "source": [
    "## PolynomialFeatures"
   ]
  },
  {
   "cell_type": "code",
   "execution_count": 10,
   "id": "bcafb393-953a-48a1-b601-963332d7669f",
   "metadata": {},
   "outputs": [],
   "source": [
    "from sklearn.preprocessing import PolynomialFeatures\n",
    "from sklearn.linear_model import Ridge\n",
    "\n",
    "PR_model = PolynomialFeatures(degree=2, interaction_only=True, include_bias=True)\n",
    "\n",
    "PR_pipe = Pipeline([\n",
    "    ('step1',trf),\n",
    "    ('scaler', StandardScaler()),\n",
    "    ('model', PR_model),\n",
    "    ('regressor', Ridge(alpha=0.01))\n",
    "])\n",
    "\n",
    "PR_pipe.fit(x_train, y_train)\n",
    "PR_pred = PR_pipe.predict(x_test)\n",
    "PR_mse = mean_squared_error(y_test, PR_pred)\n",
    "PR_r2 = r2_score(y_test, PR_pred)\n",
    "PR_mar = mean_absolute_error(y_test, PR_pred)"
   ]
  },
  {
   "cell_type": "code",
   "execution_count": 11,
   "id": "9996a176-1c95-4942-97ae-efdcd1943d4a",
   "metadata": {},
   "outputs": [
    {
     "name": "stdout",
     "output_type": "stream",
     "text": [
      "Mean Squared Error: 38.59055488320435\n",
      "Mean Absolute Error: 3.8080247017740545\n",
      "R-squared: 0.9225876173874757\n"
     ]
    }
   ],
   "source": [
    "print(f\"Mean Squared Error: {PR_mse}\")\n",
    "print(f\"Mean Absolute Error: {PR_mar}\")\n",
    "print(f\"R-squared: {PR_r2}\")"
   ]
  },
  {
   "cell_type": "markdown",
   "id": "4250a4a0-71a0-4a41-a891-2283f1866968",
   "metadata": {},
   "source": [
    "## Ridge, Lasso"
   ]
  },
  {
   "cell_type": "code",
   "execution_count": 12,
   "id": "a589751f-bb38-4fb4-aeb2-581080411d62",
   "metadata": {},
   "outputs": [],
   "source": [
    "from sklearn.linear_model import Ridge, Lasso\n",
    "\n",
    "ridge_model = Ridge(alpha=1.0)  \n",
    "R_pipe = Pipeline([\n",
    "    ('step1',trf),\n",
    "    ('scaler', StandardScaler()),\n",
    "    ('model', ridge_model),\n",
    "])\n",
    "\n",
    "R_pipe.fit(x_train, y_train)\n",
    "ridge_predictions = R_pipe.predict(x_test)\n",
    "ridge_mse = mean_squared_error(y_test, ridge_predictions)\n",
    "ridge_r2 = r2_score(y_test, ridge_predictions)\n",
    "ridge_mar = mean_absolute_error(y_test, ridge_predictions)"
   ]
  },
  {
   "cell_type": "code",
   "execution_count": 13,
   "id": "7e042f45-9edf-4713-863c-108cd22213ff",
   "metadata": {},
   "outputs": [
    {
     "name": "stdout",
     "output_type": "stream",
     "text": [
      "Mean Squared Error: 186.9816946481209\n",
      "Mean Absolute Error: 9.42234937882819\n",
      "R-squared: 0.5926412622299985\n"
     ]
    }
   ],
   "source": [
    "print(f\"Mean Squared Error: {ridge_mse}\")\n",
    "print(f\"Mean Absolute Error: {ridge_mar}\")\n",
    "print(f\"R-squared: {ridge_r2}\")"
   ]
  },
  {
   "cell_type": "code",
   "execution_count": 14,
   "id": "9fa49382-90aa-4217-a6fd-e1b1bf86f170",
   "metadata": {},
   "outputs": [],
   "source": [
    "lasso_model = Lasso(alpha=0.01)\n",
    "l_pipe = Pipeline([\n",
    "    ('step1',trf),\n",
    "    ('scaler', StandardScaler()),\n",
    "    ('model', lasso_model),\n",
    "])\n",
    "\n",
    "l_pipe.fit(x_train, y_train)\n",
    "lasso_predictions = l_pipe.predict(x_test)\n",
    "lasso_mse = mean_squared_error(y_test, lasso_predictions)\n",
    "lasso_r2 = r2_score(y_test, lasso_predictions)\n",
    "lasso_mar = mean_absolute_error(y_test, lasso_predictions)"
   ]
  },
  {
   "cell_type": "code",
   "execution_count": 15,
   "id": "56ec2cf2-c333-41a8-add1-49aafb67d3b2",
   "metadata": {},
   "outputs": [
    {
     "name": "stdout",
     "output_type": "stream",
     "text": [
      "Mean Squared Error: 187.33921752419525\n",
      "Mean Absolute Error: 9.433322585447858\n",
      "R-squared: 0.5908033562893759\n"
     ]
    }
   ],
   "source": [
    "print(f\"Mean Squared Error: {lasso_mse}\")\n",
    "print(f\"Mean Absolute Error: {lasso_mar}\")\n",
    "print(f\"R-squared: {lasso_r2}\")"
   ]
  },
  {
   "cell_type": "markdown",
   "id": "c2b15d68-1af9-43a4-870f-3d1ccd5aa468",
   "metadata": {},
   "source": [
    "## DecisionTreeRegressor"
   ]
  },
  {
   "cell_type": "code",
   "execution_count": 17,
   "id": "ebd07b0c-3286-4462-a571-17b1c908418f",
   "metadata": {},
   "outputs": [],
   "source": [
    "from sklearn.tree import DecisionTreeRegressor\n",
    "\n",
    "Decision_model = DecisionTreeRegressor(max_depth=None,min_samples_split=2,min_samples_leaf=1)   \n",
    "DT_pipe = Pipeline([\n",
    "    ('step1',trf),\n",
    "    ('scaler', StandardScaler()),\n",
    "    ('model', Decision_model),\n",
    "])\n",
    "\n",
    "DT_pipe.fit(x_train, y_train)\n",
    "DT_predictions = DT_pipe.predict(x_test)\n",
    "DT_mse = mean_squared_error(y_test, DT_predictions)\n",
    "DT_r2 = r2_score(y_test, DT_predictions)\n",
    "DT_mar = mean_absolute_error(y_test, DT_predictions)"
   ]
  },
  {
   "cell_type": "code",
   "execution_count": 18,
   "id": "09e3ad01-e3f8-4416-af2a-6ad419e68fb6",
   "metadata": {},
   "outputs": [
    {
     "name": "stdout",
     "output_type": "stream",
     "text": [
      "Mean Squared Error: 31.454148581150484\n",
      "Mean Absolute Error: 0.9343162557781206\n",
      "R-squared: 0.938685130151984\n"
     ]
    }
   ],
   "source": [
    "print(f\"Mean Squared Error: {DT_mse}\")\n",
    "print(f\"Mean Absolute Error: {DT_mar}\")\n",
    "print(f\"R-squared: {DT_r2}\")"
   ]
  },
  {
   "cell_type": "markdown",
   "id": "2ec6c551-a091-48ca-b85e-9540d53c45d0",
   "metadata": {},
   "source": [
    "## RandomForestRegressor"
   ]
  },
  {
   "cell_type": "code",
   "execution_count": 20,
   "id": "c10754cc-2ee0-4259-82d7-e77a9238ce15",
   "metadata": {},
   "outputs": [],
   "source": [
    "from sklearn.ensemble import RandomForestRegressor\n",
    "\n",
    "RF_model = RandomForestRegressor(n_estimators = 200,max_depth=None,min_samples_split=2,min_samples_leaf=1,max_features = 'log2')  \n",
    "RF_pipe = Pipeline([\n",
    "    ('step1',trf),\n",
    "    ('scaler', StandardScaler()),\n",
    "    ('model', RF_model),\n",
    "])\n",
    "\n",
    "RF_pipe.fit(x_train, y_train)\n",
    "RF_predictions = RF_pipe.predict(x_test)\n",
    "RF_mse = mean_squared_error(y_test, RF_predictions)\n",
    "RF_r2 = r2_score(y_test, RF_predictions)\n",
    "RF_mar = mean_absolute_error(y_test, RF_predictions)"
   ]
  },
  {
   "cell_type": "code",
   "execution_count": 21,
   "id": "3818bfcd-4d40-445e-acfc-2d4d4a0d51a0",
   "metadata": {},
   "outputs": [
    {
     "name": "stdout",
     "output_type": "stream",
     "text": [
      "Mean Squared Error: 9.972109201475563\n",
      "Mean Absolute Error: 1.51429122423715\n",
      "R-squared: 0.9810698843261398\n"
     ]
    }
   ],
   "source": [
    "print(f\"Mean Squared Error: {RF_mse}\")\n",
    "print(f\"Mean Absolute Error: {RF_mar}\")\n",
    "print(f\"R-squared: {RF_r2}\")"
   ]
  },
  {
   "cell_type": "code",
   "execution_count": 24,
   "id": "07dca5d4-30ba-4736-b7da-b0b345bffbf6",
   "metadata": {},
   "outputs": [
    {
     "data": {
      "text/plain": [
       "(31152, 8)"
      ]
     },
     "execution_count": 24,
     "metadata": {},
     "output_type": "execute_result"
    }
   ],
   "source": [
    "x_train.shape"
   ]
  },
  {
   "cell_type": "code",
   "execution_count": 25,
   "id": "cff48363-b792-48c4-b0b5-bf465f772af1",
   "metadata": {},
   "outputs": [
    {
     "data": {
      "text/plain": [
       "(31152, 2)"
      ]
     },
     "execution_count": 25,
     "metadata": {},
     "output_type": "execute_result"
    }
   ],
   "source": [
    "y_train.shape"
   ]
  },
  {
   "cell_type": "markdown",
   "id": "137735b9-0596-4cb3-8c86-82c2e4656367",
   "metadata": {},
   "source": [
    "## GradientBoostingRegressor"
   ]
  },
  {
   "cell_type": "code",
   "execution_count": 27,
   "id": "3116ae44-c1ca-47e1-b85d-06f83bcfc34a",
   "metadata": {},
   "outputs": [],
   "source": [
    "from sklearn.multioutput import MultiOutputRegressor\n",
    "from sklearn.ensemble import GradientBoostingRegressor\n",
    "\n",
    "base_model = GradientBoostingRegressor(n_estimators=300, learning_rate=1.0, max_depth=5)\n",
    "multioutput_model = MultiOutputRegressor(base_model)\n",
    "\n",
    "gradient_boost_pipe = Pipeline([\n",
    "    ('preprocessor', trf),\n",
    "    ('scaler', StandardScaler()),\n",
    "    ('model', multioutput_model) , \n",
    "])\n",
    "\n",
    "gradient_boost_pipe.fit(x_train, y_train)\n",
    "GB_predictions = gradient_boost_pipe.predict(x_test)\n",
    "GB_mse = mean_squared_error(y_test, GB_predictions)\n",
    "GB_r2 = r2_score(y_test, GB_predictions)\n",
    "GB_mar = mean_absolute_error(y_test, GB_predictions)"
   ]
  },
  {
   "cell_type": "code",
   "execution_count": 28,
   "id": "9dcdbbe2-d627-4258-8660-5ad5ac392909",
   "metadata": {},
   "outputs": [
    {
     "name": "stdout",
     "output_type": "stream",
     "text": [
      "Mean Squared Error: 19.816369957519523\n",
      "Mean Absolute Error: 2.402600527241031\n",
      "R-squared: 0.9649712487309912\n"
     ]
    }
   ],
   "source": [
    "print(f\"Mean Squared Error: {GB_mse}\")\n",
    "print(f\"Mean Absolute Error: {GB_mar}\")\n",
    "print(f\"R-squared: {GB_r2}\")"
   ]
  },
  {
   "cell_type": "markdown",
   "id": "4783d3b4-3943-4be7-923f-4713cfc7cf96",
   "metadata": {},
   "source": [
    "## SVR"
   ]
  },
  {
   "cell_type": "code",
   "execution_count": 32,
   "id": "2af5d88c-5521-47fa-9271-d26c63593599",
   "metadata": {},
   "outputs": [],
   "source": [
    "from sklearn.svm import SVR\n",
    "\n",
    "svr_base_model = SVR(kernel='rbf', C=10, epsilon=1)\n",
    "multioutput_modell = MultiOutputRegressor(svr_base_model)\n",
    "\n",
    "SVR_pipe = Pipeline([\n",
    "    ('preprocessor', trf),\n",
    "    ('scaler', StandardScaler()),\n",
    "    ('model', multioutput_modell)\n",
    "])\n",
    "\n",
    "SVR_pipe.fit(x_train, y_train)\n",
    "\n",
    "SVR_predictions = SVR_pipe.predict(x_test)\n",
    "SVR_mse = mean_squared_error(y_test, SVR_predictions)\n",
    "SVR_r2 = r2_score(y_test, SVR_predictions)\n",
    "SVR_mar = mean_absolute_error(y_test, SVR_predictions)"
   ]
  },
  {
   "cell_type": "code",
   "execution_count": 33,
   "id": "c2356d1c-b8a8-4ce9-8169-63c722cf5dbf",
   "metadata": {},
   "outputs": [
    {
     "name": "stdout",
     "output_type": "stream",
     "text": [
      "Mean Squared Error: 38.95287543823907\n",
      "Mean Absolute Error: 2.672690800866083\n",
      "R-squared: 0.9362298013698962\n"
     ]
    }
   ],
   "source": [
    "print(f\"Mean Squared Error: {SVR_mse}\")\n",
    "print(f\"Mean Absolute Error: {SVR_mar}\")\n",
    "print(f\"R-squared: {SVR_r2}\")"
   ]
  },
  {
   "cell_type": "markdown",
   "id": "91d85fdb-3f04-4050-bd87-4b65769d539a",
   "metadata": {},
   "source": [
    "## KNeighborsRegressor"
   ]
  },
  {
   "cell_type": "code",
   "execution_count": 35,
   "id": "3286e438-8c88-4213-81b0-276ee06f46f2",
   "metadata": {},
   "outputs": [],
   "source": [
    "from sklearn.neighbors import KNeighborsRegressor\n",
    "\n",
    "knn_model = KNeighborsRegressor(n_neighbors=3,weights='distance',p=1) \n",
    "\n",
    "knn_pipe = Pipeline(steps=[\n",
    "    ('step1', trf),\n",
    "    ('step3', knn_model)\n",
    "])\n",
    "\n",
    "knn_pipe.fit(x_train, y_train)\n",
    "knn_pred = knn_pipe.predict(x_test)\n",
    "knn_mse = mean_squared_error(y_test, knn_pred)\n",
    "knn_r2 = r2_score(y_test, knn_pred)\n",
    "knn_mar = mean_absolute_error(y_test, knn_pred)"
   ]
  },
  {
   "cell_type": "code",
   "execution_count": 36,
   "id": "3328d6d9-3065-4967-ae3e-370da6b3edcf",
   "metadata": {},
   "outputs": [
    {
     "name": "stdout",
     "output_type": "stream",
     "text": [
      "Mean Squared Error: 43.69805824309412\n",
      "Mean Absolute Error: 2.6534537829599816\n",
      "R-squared: 0.9109007020078486\n"
     ]
    }
   ],
   "source": [
    "print(f\"Mean Squared Error: {knn_mse}\")\n",
    "print(f\"Mean Absolute Error: {knn_mar}\")\n",
    "print(f\"R-squared: {knn_r2}\")"
   ]
  },
  {
   "cell_type": "markdown",
   "id": "c712dc12-d491-4a1a-ae43-ab0cc227a3f9",
   "metadata": {},
   "source": [
    "## BayesianRidge"
   ]
  },
  {
   "cell_type": "code",
   "execution_count": 41,
   "id": "32c74002-c325-4781-893a-4df33bea7c0b",
   "metadata": {},
   "outputs": [],
   "source": [
    "from sklearn.linear_model import BayesianRidge\n",
    "\n",
    "bayesian_model = BayesianRidge(max_iter=200,alpha_1=1e-6,lambda_1=1e-6)\n",
    "multioutput_modl = MultiOutputRegressor(bayesian_model)\n",
    "\n",
    "bayesian_pipe = Pipeline(steps=[\n",
    "    ('step1', trf),\n",
    "    ('step2', StandardScaler()),\n",
    "    ('step3', multioutput_modl)\n",
    "])\n",
    "\n",
    "bayesian_pipe.fit(x_train, y_train)\n",
    "bayesian_pred = bayesian_pipe.predict(x_test)\n",
    "bayesian_mse = mean_squared_error(y_test, bayesian_pred)\n",
    "bayesian_r2 = r2_score(y_test, bayesian_pred)\n",
    "bayesian_mar = mean_absolute_error(y_test, bayesian_pred)\n"
   ]
  },
  {
   "cell_type": "code",
   "execution_count": 42,
   "id": "ad44055f-929d-4dfd-9755-00cedd9841ee",
   "metadata": {},
   "outputs": [
    {
     "name": "stdout",
     "output_type": "stream",
     "text": [
      "Mean Squared Error: 186.9986622131126\n",
      "Mean Absolute Error: 9.421519606279947\n",
      "R-squared: 0.5925634374037967\n"
     ]
    }
   ],
   "source": [
    "print(f\"Mean Squared Error: {bayesian_mse}\")\n",
    "print(f\"Mean Absolute Error: {bayesian_mar}\")\n",
    "print(f\"R-squared: {bayesian_r2}\")"
   ]
  },
  {
   "cell_type": "markdown",
   "id": "c5ede66b-27ef-4d22-adde-9b816dc85cdb",
   "metadata": {},
   "source": [
    "## HuberRegressor"
   ]
  },
  {
   "cell_type": "code",
   "execution_count": 43,
   "id": "6564d492-0c8e-428c-97ad-d4cc90f8ae87",
   "metadata": {},
   "outputs": [],
   "source": [
    "from sklearn.linear_model import HuberRegressor\n",
    "\n",
    "huber_model = HuberRegressor()\n",
    "multioutput_modll = MultiOutputRegressor(huber_model)\n",
    "huber_pipe = Pipeline(steps=[\n",
    "    ('step1', trf),\n",
    "    ('step2', StandardScaler()),\n",
    "    ('step3', multioutput_modll)\n",
    "])\n",
    "\n",
    "huber_pipe.fit(x_train, y_train)\n",
    "huber_pred = huber_pipe.predict(x_test)\n",
    "huber_mse = mean_squared_error(y_test, huber_pred)\n",
    "huber_r2 = r2_score(y_test, huber_pred)\n",
    "huber_mar = mean_absolute_error(y_test, huber_pred)\n"
   ]
  },
  {
   "cell_type": "code",
   "execution_count": 44,
   "id": "3156da92-ae53-4e8a-a44a-7eb90c8e7d2d",
   "metadata": {},
   "outputs": [
    {
     "name": "stdout",
     "output_type": "stream",
     "text": [
      "Mean Squared Error: 193.0691150214018\n",
      "Mean Absolute Error: 9.295066825874493\n",
      "R-squared: 0.5803074685082323\n"
     ]
    }
   ],
   "source": [
    "print(f\"Mean Squared Error: {huber_mse}\")\n",
    "print(f\"Mean Absolute Error: {huber_mar}\")\n",
    "print(f\"R-squared: {huber_r2}\")"
   ]
  },
  {
   "cell_type": "markdown",
   "id": "0a2ca9c8-86dd-450c-9c9e-7dcd9bbbe5b6",
   "metadata": {},
   "source": [
    "## XGBRegressor"
   ]
  },
  {
   "cell_type": "code",
   "execution_count": 45,
   "id": "ba82fd60-2e9f-4444-92a9-baa1e1dfd980",
   "metadata": {},
   "outputs": [
    {
     "name": "stderr",
     "output_type": "stream",
     "text": [
      "C:\\Users\\sonal\\Documents\\virtualenv\\Lib\\site-packages\\xgboost\\data.py:384: FutureWarning: is_categorical_dtype is deprecated and will be removed in a future version. Use isinstance(dtype, CategoricalDtype) instead\n",
      "  if is_categorical_dtype(dtype):\n",
      "C:\\Users\\sonal\\Documents\\virtualenv\\Lib\\site-packages\\xgboost\\data.py:359: FutureWarning: is_categorical_dtype is deprecated and will be removed in a future version. Use isinstance(dtype, CategoricalDtype) instead\n",
      "  return is_int or is_bool or is_float or is_categorical_dtype(dtype)\n",
      "C:\\Users\\sonal\\Documents\\virtualenv\\Lib\\site-packages\\xgboost\\data.py:384: FutureWarning: is_categorical_dtype is deprecated and will be removed in a future version. Use isinstance(dtype, CategoricalDtype) instead\n",
      "  if is_categorical_dtype(dtype):\n",
      "C:\\Users\\sonal\\Documents\\virtualenv\\Lib\\site-packages\\xgboost\\data.py:359: FutureWarning: is_categorical_dtype is deprecated and will be removed in a future version. Use isinstance(dtype, CategoricalDtype) instead\n",
      "  return is_int or is_bool or is_float or is_categorical_dtype(dtype)\n",
      "C:\\Users\\sonal\\Documents\\virtualenv\\Lib\\site-packages\\xgboost\\data.py:384: FutureWarning: is_categorical_dtype is deprecated and will be removed in a future version. Use isinstance(dtype, CategoricalDtype) instead\n",
      "  if is_categorical_dtype(dtype):\n",
      "C:\\Users\\sonal\\Documents\\virtualenv\\Lib\\site-packages\\xgboost\\data.py:359: FutureWarning: is_categorical_dtype is deprecated and will be removed in a future version. Use isinstance(dtype, CategoricalDtype) instead\n",
      "  return is_int or is_bool or is_float or is_categorical_dtype(dtype)\n",
      "C:\\Users\\sonal\\Documents\\virtualenv\\Lib\\site-packages\\xgboost\\data.py:384: FutureWarning: is_categorical_dtype is deprecated and will be removed in a future version. Use isinstance(dtype, CategoricalDtype) instead\n",
      "  if is_categorical_dtype(dtype):\n",
      "C:\\Users\\sonal\\Documents\\virtualenv\\Lib\\site-packages\\xgboost\\data.py:359: FutureWarning: is_categorical_dtype is deprecated and will be removed in a future version. Use isinstance(dtype, CategoricalDtype) instead\n",
      "  return is_int or is_bool or is_float or is_categorical_dtype(dtype)\n"
     ]
    },
    {
     "data": {
      "text/html": [
       "<style>#sk-container-id-1 {color: black;}#sk-container-id-1 pre{padding: 0;}#sk-container-id-1 div.sk-toggleable {background-color: white;}#sk-container-id-1 label.sk-toggleable__label {cursor: pointer;display: block;width: 100%;margin-bottom: 0;padding: 0.3em;box-sizing: border-box;text-align: center;}#sk-container-id-1 label.sk-toggleable__label-arrow:before {content: \"▸\";float: left;margin-right: 0.25em;color: #696969;}#sk-container-id-1 label.sk-toggleable__label-arrow:hover:before {color: black;}#sk-container-id-1 div.sk-estimator:hover label.sk-toggleable__label-arrow:before {color: black;}#sk-container-id-1 div.sk-toggleable__content {max-height: 0;max-width: 0;overflow: hidden;text-align: left;background-color: #f0f8ff;}#sk-container-id-1 div.sk-toggleable__content pre {margin: 0.2em;color: black;border-radius: 0.25em;background-color: #f0f8ff;}#sk-container-id-1 input.sk-toggleable__control:checked~div.sk-toggleable__content {max-height: 200px;max-width: 100%;overflow: auto;}#sk-container-id-1 input.sk-toggleable__control:checked~label.sk-toggleable__label-arrow:before {content: \"▾\";}#sk-container-id-1 div.sk-estimator input.sk-toggleable__control:checked~label.sk-toggleable__label {background-color: #d4ebff;}#sk-container-id-1 div.sk-label input.sk-toggleable__control:checked~label.sk-toggleable__label {background-color: #d4ebff;}#sk-container-id-1 input.sk-hidden--visually {border: 0;clip: rect(1px 1px 1px 1px);clip: rect(1px, 1px, 1px, 1px);height: 1px;margin: -1px;overflow: hidden;padding: 0;position: absolute;width: 1px;}#sk-container-id-1 div.sk-estimator {font-family: monospace;background-color: #f0f8ff;border: 1px dotted black;border-radius: 0.25em;box-sizing: border-box;margin-bottom: 0.5em;}#sk-container-id-1 div.sk-estimator:hover {background-color: #d4ebff;}#sk-container-id-1 div.sk-parallel-item::after {content: \"\";width: 100%;border-bottom: 1px solid gray;flex-grow: 1;}#sk-container-id-1 div.sk-label:hover label.sk-toggleable__label {background-color: #d4ebff;}#sk-container-id-1 div.sk-serial::before {content: \"\";position: absolute;border-left: 1px solid gray;box-sizing: border-box;top: 0;bottom: 0;left: 50%;z-index: 0;}#sk-container-id-1 div.sk-serial {display: flex;flex-direction: column;align-items: center;background-color: white;padding-right: 0.2em;padding-left: 0.2em;position: relative;}#sk-container-id-1 div.sk-item {position: relative;z-index: 1;}#sk-container-id-1 div.sk-parallel {display: flex;align-items: stretch;justify-content: center;background-color: white;position: relative;}#sk-container-id-1 div.sk-item::before, #sk-container-id-1 div.sk-parallel-item::before {content: \"\";position: absolute;border-left: 1px solid gray;box-sizing: border-box;top: 0;bottom: 0;left: 50%;z-index: -1;}#sk-container-id-1 div.sk-parallel-item {display: flex;flex-direction: column;z-index: 1;position: relative;background-color: white;}#sk-container-id-1 div.sk-parallel-item:first-child::after {align-self: flex-end;width: 50%;}#sk-container-id-1 div.sk-parallel-item:last-child::after {align-self: flex-start;width: 50%;}#sk-container-id-1 div.sk-parallel-item:only-child::after {width: 0;}#sk-container-id-1 div.sk-dashed-wrapped {border: 1px dashed gray;margin: 0 0.4em 0.5em 0.4em;box-sizing: border-box;padding-bottom: 0.4em;background-color: white;}#sk-container-id-1 div.sk-label label {font-family: monospace;font-weight: bold;display: inline-block;line-height: 1.2em;}#sk-container-id-1 div.sk-label-container {text-align: center;}#sk-container-id-1 div.sk-container {/* jupyter's `normalize.less` sets `[hidden] { display: none; }` but bootstrap.min.css set `[hidden] { display: none !important; }` so we also need the `!important` here to be able to override the default hidden behavior on the sphinx rendered scikit-learn.org. See: https://github.com/scikit-learn/scikit-learn/issues/21755 */display: inline-block !important;position: relative;}#sk-container-id-1 div.sk-text-repr-fallback {display: none;}</style><div id=\"sk-container-id-1\" class=\"sk-top-container\"><div class=\"sk-text-repr-fallback\"><pre>Pipeline(steps=[(&#x27;step1&#x27;,\n",
       "                 ColumnTransformer(remainder=&#x27;passthrough&#x27;,\n",
       "                                   transformers=[(&#x27;trf&#x27;,\n",
       "                                                  OneHotEncoder(drop=&#x27;first&#x27;,\n",
       "                                                                sparse_output=False),\n",
       "                                                  [&#x27;batting_team&#x27;,\n",
       "                                                   &#x27;bowling_team&#x27;, &#x27;city&#x27;])])),\n",
       "                (&#x27;step2&#x27;, StandardScaler()),\n",
       "                (&#x27;step3&#x27;,\n",
       "                 XGBRegressor(base_score=None, booster=None, callbacks=None,\n",
       "                              colsample_bylevel=None, colsample_bynode=None,\n",
       "                              colsample_bytree=None, device=None...\n",
       "                              feature_types=None, gamma=None, grow_policy=None,\n",
       "                              importance_type=None,\n",
       "                              interaction_constraints=None, learning_rate=0.2,\n",
       "                              max_bin=None, max_cat_threshold=None,\n",
       "                              max_cat_to_onehot=None, max_delta_step=None,\n",
       "                              max_depth=12, max_leaves=None,\n",
       "                              min_child_weight=None, missing=nan,\n",
       "                              monotone_constraints=None, multi_strategy=None,\n",
       "                              n_estimators=1000, n_jobs=None,\n",
       "                              num_parallel_tree=None, random_state=1, ...))])</pre><b>In a Jupyter environment, please rerun this cell to show the HTML representation or trust the notebook. <br />On GitHub, the HTML representation is unable to render, please try loading this page with nbviewer.org.</b></div><div class=\"sk-container\" hidden><div class=\"sk-item sk-dashed-wrapped\"><div class=\"sk-label-container\"><div class=\"sk-label sk-toggleable\"><input class=\"sk-toggleable__control sk-hidden--visually\" id=\"sk-estimator-id-1\" type=\"checkbox\" ><label for=\"sk-estimator-id-1\" class=\"sk-toggleable__label sk-toggleable__label-arrow\">Pipeline</label><div class=\"sk-toggleable__content\"><pre>Pipeline(steps=[(&#x27;step1&#x27;,\n",
       "                 ColumnTransformer(remainder=&#x27;passthrough&#x27;,\n",
       "                                   transformers=[(&#x27;trf&#x27;,\n",
       "                                                  OneHotEncoder(drop=&#x27;first&#x27;,\n",
       "                                                                sparse_output=False),\n",
       "                                                  [&#x27;batting_team&#x27;,\n",
       "                                                   &#x27;bowling_team&#x27;, &#x27;city&#x27;])])),\n",
       "                (&#x27;step2&#x27;, StandardScaler()),\n",
       "                (&#x27;step3&#x27;,\n",
       "                 XGBRegressor(base_score=None, booster=None, callbacks=None,\n",
       "                              colsample_bylevel=None, colsample_bynode=None,\n",
       "                              colsample_bytree=None, device=None...\n",
       "                              feature_types=None, gamma=None, grow_policy=None,\n",
       "                              importance_type=None,\n",
       "                              interaction_constraints=None, learning_rate=0.2,\n",
       "                              max_bin=None, max_cat_threshold=None,\n",
       "                              max_cat_to_onehot=None, max_delta_step=None,\n",
       "                              max_depth=12, max_leaves=None,\n",
       "                              min_child_weight=None, missing=nan,\n",
       "                              monotone_constraints=None, multi_strategy=None,\n",
       "                              n_estimators=1000, n_jobs=None,\n",
       "                              num_parallel_tree=None, random_state=1, ...))])</pre></div></div></div><div class=\"sk-serial\"><div class=\"sk-item sk-dashed-wrapped\"><div class=\"sk-label-container\"><div class=\"sk-label sk-toggleable\"><input class=\"sk-toggleable__control sk-hidden--visually\" id=\"sk-estimator-id-2\" type=\"checkbox\" ><label for=\"sk-estimator-id-2\" class=\"sk-toggleable__label sk-toggleable__label-arrow\">step1: ColumnTransformer</label><div class=\"sk-toggleable__content\"><pre>ColumnTransformer(remainder=&#x27;passthrough&#x27;,\n",
       "                  transformers=[(&#x27;trf&#x27;,\n",
       "                                 OneHotEncoder(drop=&#x27;first&#x27;,\n",
       "                                               sparse_output=False),\n",
       "                                 [&#x27;batting_team&#x27;, &#x27;bowling_team&#x27;, &#x27;city&#x27;])])</pre></div></div></div><div class=\"sk-parallel\"><div class=\"sk-parallel-item\"><div class=\"sk-item\"><div class=\"sk-label-container\"><div class=\"sk-label sk-toggleable\"><input class=\"sk-toggleable__control sk-hidden--visually\" id=\"sk-estimator-id-3\" type=\"checkbox\" ><label for=\"sk-estimator-id-3\" class=\"sk-toggleable__label sk-toggleable__label-arrow\">trf</label><div class=\"sk-toggleable__content\"><pre>[&#x27;batting_team&#x27;, &#x27;bowling_team&#x27;, &#x27;city&#x27;]</pre></div></div></div><div class=\"sk-serial\"><div class=\"sk-item\"><div class=\"sk-estimator sk-toggleable\"><input class=\"sk-toggleable__control sk-hidden--visually\" id=\"sk-estimator-id-4\" type=\"checkbox\" ><label for=\"sk-estimator-id-4\" class=\"sk-toggleable__label sk-toggleable__label-arrow\">OneHotEncoder</label><div class=\"sk-toggleable__content\"><pre>OneHotEncoder(drop=&#x27;first&#x27;, sparse_output=False)</pre></div></div></div></div></div></div><div class=\"sk-parallel-item\"><div class=\"sk-item\"><div class=\"sk-label-container\"><div class=\"sk-label sk-toggleable\"><input class=\"sk-toggleable__control sk-hidden--visually\" id=\"sk-estimator-id-5\" type=\"checkbox\" ><label for=\"sk-estimator-id-5\" class=\"sk-toggleable__label sk-toggleable__label-arrow\">remainder</label><div class=\"sk-toggleable__content\"><pre>[&#x27;current_score&#x27;, &#x27;ball_left&#x27;, &#x27;wicket_left&#x27;, &#x27;crr&#x27;, &#x27;last_five&#x27;]</pre></div></div></div><div class=\"sk-serial\"><div class=\"sk-item\"><div class=\"sk-estimator sk-toggleable\"><input class=\"sk-toggleable__control sk-hidden--visually\" id=\"sk-estimator-id-6\" type=\"checkbox\" ><label for=\"sk-estimator-id-6\" class=\"sk-toggleable__label sk-toggleable__label-arrow\">passthrough</label><div class=\"sk-toggleable__content\"><pre>passthrough</pre></div></div></div></div></div></div></div></div><div class=\"sk-item\"><div class=\"sk-estimator sk-toggleable\"><input class=\"sk-toggleable__control sk-hidden--visually\" id=\"sk-estimator-id-7\" type=\"checkbox\" ><label for=\"sk-estimator-id-7\" class=\"sk-toggleable__label sk-toggleable__label-arrow\">StandardScaler</label><div class=\"sk-toggleable__content\"><pre>StandardScaler()</pre></div></div></div><div class=\"sk-item\"><div class=\"sk-estimator sk-toggleable\"><input class=\"sk-toggleable__control sk-hidden--visually\" id=\"sk-estimator-id-8\" type=\"checkbox\" ><label for=\"sk-estimator-id-8\" class=\"sk-toggleable__label sk-toggleable__label-arrow\">XGBRegressor</label><div class=\"sk-toggleable__content\"><pre>XGBRegressor(base_score=None, booster=None, callbacks=None,\n",
       "             colsample_bylevel=None, colsample_bynode=None,\n",
       "             colsample_bytree=None, device=None, early_stopping_rounds=None,\n",
       "             enable_categorical=False, eval_metric=None, feature_types=None,\n",
       "             gamma=None, grow_policy=None, importance_type=None,\n",
       "             interaction_constraints=None, learning_rate=0.2, max_bin=None,\n",
       "             max_cat_threshold=None, max_cat_to_onehot=None,\n",
       "             max_delta_step=None, max_depth=12, max_leaves=None,\n",
       "             min_child_weight=None, missing=nan, monotone_constraints=None,\n",
       "             multi_strategy=None, n_estimators=1000, n_jobs=None,\n",
       "             num_parallel_tree=None, random_state=1, ...)</pre></div></div></div></div></div></div></div>"
      ],
      "text/plain": [
       "Pipeline(steps=[('step1',\n",
       "                 ColumnTransformer(remainder='passthrough',\n",
       "                                   transformers=[('trf',\n",
       "                                                  OneHotEncoder(drop='first',\n",
       "                                                                sparse_output=False),\n",
       "                                                  ['batting_team',\n",
       "                                                   'bowling_team', 'city'])])),\n",
       "                ('step2', StandardScaler()),\n",
       "                ('step3',\n",
       "                 XGBRegressor(base_score=None, booster=None, callbacks=None,\n",
       "                              colsample_bylevel=None, colsample_bynode=None,\n",
       "                              colsample_bytree=None, device=None...\n",
       "                              feature_types=None, gamma=None, grow_policy=None,\n",
       "                              importance_type=None,\n",
       "                              interaction_constraints=None, learning_rate=0.2,\n",
       "                              max_bin=None, max_cat_threshold=None,\n",
       "                              max_cat_to_onehot=None, max_delta_step=None,\n",
       "                              max_depth=12, max_leaves=None,\n",
       "                              min_child_weight=None, missing=nan,\n",
       "                              monotone_constraints=None, multi_strategy=None,\n",
       "                              n_estimators=1000, n_jobs=None,\n",
       "                              num_parallel_tree=None, random_state=1, ...))])"
      ]
     },
     "execution_count": 45,
     "metadata": {},
     "output_type": "execute_result"
    }
   ],
   "source": [
    "from xgboost  import XGBRegressor\n",
    "pipe = Pipeline(steps=[\n",
    "    ('step1',trf),\n",
    "    ('step2',StandardScaler()),\n",
    "    ('step3',XGBRegressor(n_estimators=1000,learning_rate=0.2,max_depth=12,random_state=1))\n",
    "])\n",
    "pipe.fit(x_train,y_train)"
   ]
  },
  {
   "cell_type": "code",
   "execution_count": 46,
   "id": "601c6be1-cd32-4c4d-9694-158bc4b8fb77",
   "metadata": {},
   "outputs": [],
   "source": [
    "XGB_pred = pipe.predict(x_test)\n",
    "XGB_mse = mean_squared_error(y_test, XGB_pred)\n",
    "XGB_r2 = r2_score(y_test, XGB_pred)\n",
    "XGB_mar = mean_absolute_error(y_test, XGB_pred)"
   ]
  },
  {
   "cell_type": "code",
   "execution_count": 47,
   "id": "eaf35788-495b-4e8e-bf9c-7b7c3f2e2f90",
   "metadata": {},
   "outputs": [
    {
     "name": "stdout",
     "output_type": "stream",
     "text": [
      "Mean Squared Error: 6.853709771315634\n",
      "Mean Absolute Error: 1.056283712906291\n",
      "R-squared: 0.9887635603912082\n"
     ]
    }
   ],
   "source": [
    "print(f\"Mean Squared Error: {XGB_mse}\")\n",
    "print(f\"Mean Absolute Error: {XGB_mar}\")\n",
    "print(f\"R-squared: {XGB_r2}\")"
   ]
  },
  {
   "cell_type": "code",
   "execution_count": null,
   "id": "4adc1d92-f0a2-4e16-aa8f-f854c3d0f838",
   "metadata": {},
   "outputs": [],
   "source": []
  },
  {
   "cell_type": "code",
   "execution_count": 49,
   "id": "a44a28a2-741e-460d-81dd-8d117adf10fd",
   "metadata": {},
   "outputs": [
    {
     "name": "stdout",
     "output_type": "stream",
     "text": [
      "┏━━━━━━━━━━━━━━━━━━━┳━━━━━━━━━━━┳━━━━━━━━━━┳━━━━━━━━━━┓\n",
      "┃ Model             ┃       MSE ┃       R2 ┃      MAE ┃\n",
      "┣━━━━━━━━━━━━━━━━━━━╋━━━━━━━━━━━╋━━━━━━━━━━╋━━━━━━━━━━┫\n",
      "┃ Linear Regression ┃ 186.981   ┃ 0.592645 ┃ 9.42245  ┃\n",
      "┃ Polynomial        ┃  38.5906  ┃ 0.922588 ┃ 3.80802  ┃\n",
      "┃ Ridge             ┃ 186.982   ┃ 0.592641 ┃ 9.42235  ┃\n",
      "┃ Lasso             ┃ 187.339   ┃ 0.590803 ┃ 9.43332  ┃\n",
      "┃ Decision Tree     ┃  31.4541  ┃ 0.938685 ┃ 0.934316 ┃\n",
      "┃ Random Forest     ┃   9.97211 ┃ 0.98107  ┃ 1.51429  ┃\n",
      "┃ GradientBoosting  ┃  19.8164  ┃ 0.964971 ┃ 2.4026   ┃\n",
      "┃ SVR               ┃  38.9529  ┃ 0.93623  ┃ 2.67269  ┃\n",
      "┃ KNN               ┃  43.6981  ┃ 0.910901 ┃ 2.65345  ┃\n",
      "┃ BayesianRidge     ┃ 186.999   ┃ 0.592563 ┃ 9.42152  ┃\n",
      "┃ Huber Regression  ┃ 193.069   ┃ 0.580307 ┃ 9.29507  ┃\n",
      "┃ XGBRegressor      ┃   6.85371 ┃ 0.988764 ┃ 1.05628  ┃\n",
      "┗━━━━━━━━━━━━━━━━━━━┻━━━━━━━━━━━┻━━━━━━━━━━┻━━━━━━━━━━┛\n"
     ]
    }
   ],
   "source": [
    "from tabulate import tabulate\n",
    "\n",
    "comparison_data = {\n",
    "    'Model': [\n",
    "        'Linear Regression', 'Polynomial', 'Ridge', 'Lasso', 'Decision Tree', \n",
    "        'Random Forest', 'GradientBoosting', 'SVR', 'KNN', 'BayesianRidge',\n",
    "        'Huber Regression', 'XGBRegressor'\n",
    "    ],\n",
    "    'MSE': [\n",
    "        lr_mse, PR_mse, ridge_mse, lasso_mse, DT_mse, RF_mse, GB_mse, SVR_mse,\n",
    "        knn_mse, bayesian_mse, huber_mse, XGB_mse\n",
    "    ],\n",
    "    'R2': [\n",
    "        lr_r2, PR_r2, ridge_r2, lasso_r2, DT_r2, RF_r2, GB_r2, SVR_r2, knn_r2,\n",
    "        bayesian_r2, huber_r2, XGB_r2\n",
    "    ],\n",
    "    'MAE': [\n",
    "        lr_mar, PR_mar, ridge_mar, lasso_mar, DT_mar, RF_mar, GB_mar, SVR_mar,\n",
    "        knn_mar, bayesian_mar, huber_mar, XGB_mar\n",
    "    ]\n",
    "}\n",
    "\n",
    "# Create a comparison table\n",
    "comparison_table = tabulate(comparison_data, headers='keys', tablefmt='heavy_outline')\n",
    "\n",
    "# Print the comparison table\n",
    "print(comparison_table)\n"
   ]
  },
  {
   "cell_type": "code",
   "execution_count": 50,
   "id": "2bd891b4-a941-48ec-a310-3bbe8337dac5",
   "metadata": {},
   "outputs": [
    {
     "name": "stdout",
     "output_type": "stream",
     "text": [
      "+-------------------+--------------------+--------------------+--------------------+\n",
      "|       Model       |        MSE         |         R2         |        MAE         |\n",
      "+-------------------+--------------------+--------------------+--------------------+\n",
      "| Linear Regression | 186.98080588849706 | 0.5926450298081365 | 9.422448189419034  |\n",
      "|    Polynomial     | 38.59055488320435  | 0.9225876173874757 | 3.8080247017740545 |\n",
      "|   Decision Tree   | 31.454148581150484 | 0.938685130151984  | 0.9343162557781206 |\n",
      "|   Random Forest   | 9.972109201475563  | 0.9810698843261398 |  1.51429122423715  |\n",
      "| GradientBoosting  | 19.816369957519523 | 0.9649712487309912 | 2.402600527241031  |\n",
      "|        SVR        | 38.95287543823907  | 0.9362298013698962 | 2.672690800866083  |\n",
      "|        KNN        | 43.69805824309412  | 0.9109007020078486 | 2.6534537829599816 |\n",
      "|   XGBRegressor    | 6.853709771315634  | 0.9887635603912082 | 1.056283712906291  |\n",
      "+-------------------+--------------------+--------------------+--------------------+\n"
     ]
    }
   ],
   "source": [
    "from tabulate import tabulate\n",
    "comparison_data = {\n",
    "    'Model': [\n",
    "        'Linear Regression', 'Polynomial', 'Decision Tree','Random Forest', 'GradientBoosting', 'SVR', 'KNN', 'XGBRegressor'\n",
    "    ],\n",
    "    'MSE': [\n",
    "        lr_mse, PR_mse, DT_mse, RF_mse, GB_mse, SVR_mse,knn_mse, XGB_mse\n",
    "    ],\n",
    "    'R2': [\n",
    "        lr_r2, PR_r2, DT_r2, RF_r2, GB_r2, SVR_r2, knn_r2,XGB_r2\n",
    "    ],\n",
    "    'MAE': [\n",
    "        lr_mar, PR_mar,  DT_mar, RF_mar, GB_mar, SVR_mar,knn_mar, XGB_mar\n",
    "    ]\n",
    "}\n",
    "comparison_table = tabulate(comparison_data, headers='keys', tablefmt='pretty')\n",
    "print(comparison_table)"
   ]
  },
  {
   "cell_type": "code",
   "execution_count": 53,
   "id": "6b3687a4-f367-498c-8a92-8c1ab5c79ab1",
   "metadata": {},
   "outputs": [
    {
     "name": "stdout",
     "output_type": "stream",
     "text": [
      "┏━━━━━━━━━━━━━━━━━━━┳━━━━━━━━━━━┳━━━━━━━━━━┳━━━━━━━━━━┓\n",
      "┃ Model             ┃       MSE ┃      MAE ┃       R2 ┃\n",
      "┣━━━━━━━━━━━━━━━━━━━╋━━━━━━━━━━━╋━━━━━━━━━━╋━━━━━━━━━━┫\n",
      "┃ Linear Regression ┃ 186.981   ┃ 9.42245  ┃ 0.592645 ┃\n",
      "┃ Polynomial        ┃  38.5906  ┃ 3.80802  ┃ 0.922588 ┃\n",
      "┃ Decision Tree     ┃  31.4541  ┃ 0.934316 ┃ 0.938685 ┃\n",
      "┃ Random Forest     ┃   9.97211 ┃ 1.51429  ┃ 0.98107  ┃\n",
      "┃ GradientBoosting  ┃  19.8164  ┃ 2.4026   ┃ 0.964971 ┃\n",
      "┃ SVR               ┃  38.9529  ┃ 2.67269  ┃ 0.93623  ┃\n",
      "┃ KNN               ┃  43.6981  ┃ 2.65345  ┃ 0.910901 ┃\n",
      "┃ XGBRegressor      ┃   6.85371 ┃ 1.05628  ┃ 0.988764 ┃\n",
      "┗━━━━━━━━━━━━━━━━━━━┻━━━━━━━━━━━┻━━━━━━━━━━┻━━━━━━━━━━┛\n"
     ]
    }
   ],
   "source": [
    "from tabulate import tabulate\n",
    "comparison_data = {\n",
    "    'Model': [\n",
    "        'Linear Regression', 'Polynomial', 'Decision Tree','Random Forest', 'GradientBoosting', 'SVR', 'KNN', 'XGBRegressor'\n",
    "    ],\n",
    "    'MSE': [\n",
    "        lr_mse, PR_mse, DT_mse, RF_mse, GB_mse, SVR_mse,knn_mse, XGB_mse\n",
    "    ],\n",
    "    'MAE': [\n",
    "        lr_mar, PR_mar,  DT_mar, RF_mar, GB_mar, SVR_mar,knn_mar, XGB_mar\n",
    "    ],\n",
    "    'R2': [\n",
    "        lr_r2, PR_r2, DT_r2, RF_r2, GB_r2, SVR_r2, knn_r2,XGB_r2\n",
    "    ],\n",
    "\n",
    "}\n",
    "comparison_table = tabulate(comparison_data, headers='keys', tablefmt='heavy_outline')\n",
    "print(comparison_table)"
   ]
  },
  {
   "cell_type": "code",
   "execution_count": null,
   "id": "13888c70-acd2-493a-bd77-fd9a82e24ed0",
   "metadata": {},
   "outputs": [],
   "source": []
  },
  {
   "cell_type": "code",
   "execution_count": null,
   "id": "64e37931-bfb3-422f-853b-2aa83d127fc4",
   "metadata": {},
   "outputs": [],
   "source": []
  },
  {
   "cell_type": "code",
   "execution_count": null,
   "id": "023891dd-c78c-437d-a577-a1c8f2335038",
   "metadata": {},
   "outputs": [],
   "source": []
  },
  {
   "cell_type": "code",
   "execution_count": null,
   "id": "f1d8c742-ba1f-49c9-a37c-ec7750cb4e63",
   "metadata": {},
   "outputs": [],
   "source": []
  },
  {
   "cell_type": "code",
   "execution_count": null,
   "id": "f0a67c4f-7c60-4dc6-8f8c-ba4da47e599b",
   "metadata": {},
   "outputs": [],
   "source": []
  },
  {
   "cell_type": "code",
   "execution_count": null,
   "id": "3c4b5658-3dda-47de-9671-8f15030a77c0",
   "metadata": {},
   "outputs": [],
   "source": []
  },
  {
   "cell_type": "code",
   "execution_count": null,
   "id": "0ead3615-0621-4c98-91a3-f152ad122edc",
   "metadata": {},
   "outputs": [],
   "source": []
  },
  {
   "cell_type": "code",
   "execution_count": null,
   "id": "aacb65c5-047f-4e8d-9d1c-147eacf8d992",
   "metadata": {},
   "outputs": [],
   "source": []
  },
  {
   "cell_type": "code",
   "execution_count": null,
   "id": "5e32e2af-2b05-4ca3-8ab9-41353f1e6e33",
   "metadata": {},
   "outputs": [],
   "source": []
  },
  {
   "cell_type": "code",
   "execution_count": null,
   "id": "6b2b02da-e6f1-4f33-8341-54e35ae89023",
   "metadata": {},
   "outputs": [],
   "source": []
  },
  {
   "cell_type": "code",
   "execution_count": null,
   "id": "41402f75-647d-4f60-b13c-a3e08b29ac69",
   "metadata": {},
   "outputs": [],
   "source": []
  },
  {
   "cell_type": "code",
   "execution_count": null,
   "id": "880fc702-31bc-4995-96e5-83c1d321f43c",
   "metadata": {},
   "outputs": [],
   "source": []
  },
  {
   "cell_type": "code",
   "execution_count": null,
   "id": "a64404f6-e47e-48fe-a0e5-8aaf7b931a91",
   "metadata": {},
   "outputs": [],
   "source": []
  },
  {
   "cell_type": "code",
   "execution_count": null,
   "id": "ffbc52b0-2c76-4ff1-8b50-136496dd093a",
   "metadata": {},
   "outputs": [],
   "source": []
  },
  {
   "cell_type": "code",
   "execution_count": null,
   "id": "d1a6a449-cd83-478d-87cb-a6df8d2e0e18",
   "metadata": {},
   "outputs": [],
   "source": []
  },
  {
   "cell_type": "code",
   "execution_count": null,
   "id": "d7f0c0f0-b129-404d-a8d8-526f4dfdec04",
   "metadata": {},
   "outputs": [],
   "source": []
  },
  {
   "cell_type": "code",
   "execution_count": null,
   "id": "337b032d-b456-4fbc-b462-576de37f60e4",
   "metadata": {},
   "outputs": [],
   "source": []
  },
  {
   "cell_type": "code",
   "execution_count": null,
   "id": "a2925a19-64c5-4b77-9771-a364681e3208",
   "metadata": {},
   "outputs": [],
   "source": []
  },
  {
   "cell_type": "code",
   "execution_count": null,
   "id": "2a440b5c-7afc-4226-bda6-c7d0f86aeb5a",
   "metadata": {},
   "outputs": [],
   "source": []
  },
  {
   "cell_type": "code",
   "execution_count": null,
   "id": "d75e5242-3693-4a3c-bfa7-5e828822d698",
   "metadata": {},
   "outputs": [],
   "source": []
  },
  {
   "cell_type": "code",
   "execution_count": null,
   "id": "2fcee453-05a3-498b-b5b6-a23f657a2b5c",
   "metadata": {},
   "outputs": [],
   "source": []
  }
 ],
 "metadata": {
  "kernelspec": {
   "display_name": "virtualenv",
   "language": "python",
   "name": "virtualenv"
  },
  "language_info": {
   "codemirror_mode": {
    "name": "ipython",
    "version": 3
   },
   "file_extension": ".py",
   "mimetype": "text/x-python",
   "name": "python",
   "nbconvert_exporter": "python",
   "pygments_lexer": "ipython3",
   "version": "3.11.5"
  }
 },
 "nbformat": 4,
 "nbformat_minor": 5
}
