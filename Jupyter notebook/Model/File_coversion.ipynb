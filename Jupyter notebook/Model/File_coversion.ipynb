{
 "cells": [
  {
   "cell_type": "markdown",
   "id": "b53ade06-a61a-4afc-a2b1-7ee4bd1124d6",
   "metadata": {},
   "source": [
    "Dataset = https://www.kaggle.com/datasets/veeralakrishna/cricsheet-a-retrosheet-for-cricket"
   ]
  },
  {
   "cell_type": "code",
   "execution_count": 1,
   "id": "86d2a0a0-6d1c-420f-a3c5-3e1a8a3587f0",
   "metadata": {},
   "outputs": [],
   "source": [
    "# pip install pyyaml pandas"
   ]
  },
  {
   "cell_type": "code",
   "execution_count": 2,
   "id": "77c566b6-bfb4-4d66-829e-b619a0310098",
   "metadata": {},
   "outputs": [],
   "source": [
    "import pandas as pd\n",
    "from yaml import safe_load\n",
    "import os\n",
    "from tqdm import tqdm"
   ]
  },
  {
   "cell_type": "code",
   "execution_count": 4,
   "id": "ca24f377-7fb0-4931-9b86-0522f9a5cadc",
   "metadata": {},
   "outputs": [],
   "source": [
    "filename = []\n",
    "for file in os.listdir('T20_data'):\n",
    "    filename.append(os.path.join('T20_data',file))"
   ]
  },
  {
   "cell_type": "code",
   "execution_count": null,
   "id": "eedb897b-80f7-4381-b751-c7c67d772b2b",
   "metadata": {},
   "outputs": [],
   "source": [
    "filename[0:5]"
   ]
  },
  {
   "cell_type": "code",
   "execution_count": null,
   "id": "97935572-4f38-435d-b438-b179106d3055",
   "metadata": {},
   "outputs": [],
   "source": [
    "final_df =pd.DataFrame()\n",
    "counter = 1\n",
    "for file in tqdm(filename):\n",
    "    with open(file,'r') as f:\n",
    "        df = pd.json_normalize(safe_load(f))\n",
    "        df['match_id']=counter\n",
    "        # final_df = final_df.append(df)  #-AttributeError: 'DataFrame' object has no attribute 'append'\n",
    "        final_df = pd.concat([final_df, df], ignore_index=True)\n",
    "        counter +=1\n",
    "final_df"
   ]
  },
  {
   "cell_type": "code",
   "execution_count": null,
   "id": "a5954a82-f4bc-4bf5-9958-e644f5979b43",
   "metadata": {},
   "outputs": [],
   "source": [
    "backup=final_df.copy()"
   ]
  },
  {
   "cell_type": "code",
   "execution_count": null,
   "id": "517d8ea9-f707-4e84-8554-615a12f8ea49",
   "metadata": {},
   "outputs": [],
   "source": [
    "final_df"
   ]
  },
  {
   "cell_type": "code",
   "execution_count": null,
   "id": "2c8cf376-361d-4465-9423-253675ed27cb",
   "metadata": {},
   "outputs": [],
   "source": [
    "final_df.columns"
   ]
  },
  {
   "cell_type": "code",
   "execution_count": null,
   "id": "bf7f7cc1-e066-4518-a2fb-589ef3f2c378",
   "metadata": {},
   "outputs": [],
   "source": [
    "final_df.drop(columns=['meta.data_version', 'meta.created', 'meta.revision',\n",
    " 'info.outcome.bowl_out','info.outcome.by.runs', 'info.match_type_number',\n",
    "       'info.neutral_venue', 'info.outcome.method', 'info.outcome.result',\n",
    "       'info.outcome.eliminator', 'info.supersubs.New Zealand',\n",
    "       'info.supersubs.South Africa', 'info.bowl_out', 'info.outcome.by.wickets'],inplace=True\n",
    "             )"
   ]
  },
  {
   "cell_type": "code",
   "execution_count": null,
   "id": "69558987-9727-4b03-8d9f-44a3cbcf79f9",
   "metadata": {},
   "outputs": [],
   "source": [
    "final_df"
   ]
  },
  {
   "cell_type": "code",
   "execution_count": null,
   "id": "04e9ed27-62f4-43aa-849c-a57f72e98e45",
   "metadata": {},
   "outputs": [],
   "source": [
    "final_df['info.gender'].value_counts()"
   ]
  },
  {
   "cell_type": "code",
   "execution_count": null,
   "id": "84676c54-d8bf-4e99-9c47-5f724b108014",
   "metadata": {},
   "outputs": [],
   "source": [
    "final_df = final_df[final_df['info.gender']=='male']\n",
    "final_df"
   ]
  },
  {
   "cell_type": "code",
   "execution_count": null,
   "id": "758cf6fe-3053-4c95-9759-a5b2a80dac69",
   "metadata": {},
   "outputs": [],
   "source": [
    "final_df.drop(columns=['info.gender'],inplace=True)"
   ]
  },
  {
   "cell_type": "code",
   "execution_count": null,
   "id": "ae94c7ff-6f5b-4f7b-be04-4a005211c194",
   "metadata": {},
   "outputs": [],
   "source": [
    "final_df"
   ]
  },
  {
   "cell_type": "code",
   "execution_count": null,
   "id": "7d37941b-0443-4c36-85c9-7af02a4be4eb",
   "metadata": {},
   "outputs": [],
   "source": [
    "final_df['info.match_type'].value_counts()"
   ]
  },
  {
   "cell_type": "code",
   "execution_count": null,
   "id": "c62e98fd-0b92-4292-a7a7-2d048da3525b",
   "metadata": {},
   "outputs": [],
   "source": [
    "final_df['info.overs'].value_counts()"
   ]
  },
  {
   "cell_type": "code",
   "execution_count": null,
   "id": "ca08d10c-ba2e-4089-9eee-a7a7e71cefb5",
   "metadata": {},
   "outputs": [],
   "source": [
    "final_df=final_df[final_df['info.overs']==20]"
   ]
  },
  {
   "cell_type": "code",
   "execution_count": null,
   "id": "5f92bd8a-88a9-4b49-93f1-f36bc5c7f06e",
   "metadata": {},
   "outputs": [],
   "source": [
    "final_df['info.overs'].value_counts()"
   ]
  },
  {
   "cell_type": "code",
   "execution_count": null,
   "id": "25f79504-e95b-418c-ab16-c4a8d9af1a81",
   "metadata": {},
   "outputs": [],
   "source": [
    "final_df.drop(columns=['info.match_type','info.overs'],inplace=True)"
   ]
  },
  {
   "cell_type": "code",
   "execution_count": null,
   "id": "f628b2f3-51d1-4c45-af38-0e0b9fc0d9dd",
   "metadata": {},
   "outputs": [],
   "source": [
    "final_df"
   ]
  },
  {
   "cell_type": "code",
   "execution_count": null,
   "id": "d1b3e78d-6d9f-497d-980d-bcd6e45f35dc",
   "metadata": {},
   "outputs": [],
   "source": [
    "import pickle\n",
    "pickle.dump(final_df,open('dataset_level1.pkl','wb'))"
   ]
  },
  {
   "cell_type": "markdown",
   "id": "cc3cf808-3776-4fd0-97c5-7dc6dab41a28",
   "metadata": {},
   "source": [
    "`pickle` module to save (serialize) a Pandas DataFrame (`final_df`) to a binary file named `'dataset_level1.pkl'`\r\n",
    "\r\n",
    "1. `import pickle`: This line imports the Python `pickle` module. Pickle is a built-in module that provides a way to serialize and deserialize Python objects. Serialization is the process of converting a Python object into a format that can be stored or transmitted and later deserialized (reconstructed) to its original form.\r\n",
    "\r\n",
    "2. `pickle.dump(final_df, open('dataset_level1.pkl', 'wb'))`: This line does the following:\r\n",
    "\r\n",
    "   - `pickle.dump(final_df, ...)` - This part of the code is using the `dump` method from the `pickle` module to serialize the Pandas DataFrame `final_df` and save it to a file.\r\n",
    "\r\n",
    "   - `open('dataset_level1.pkl', 'wb')` - This part opens a file named `'dataset_level1.pkl'` in binary write mode ('wb'). The `'wb'` mode is used to write binary data, which is suitable for saving serialized objects like DataFrames.\r\n",
    "\r\n",
    "   - The `final_df` DataFrame is serialized and saved into the `'dataset_level1.pkl'` file, which can be later read and deserialized to retrieve the original DataFrame using the `pickle.loaduring deserialization."
   ]
  }
 ],
 "metadata": {
  "kernelspec": {
   "display_name": "virtualenv",
   "language": "python",
   "name": "virtualenv"
  },
  "language_info": {
   "codemirror_mode": {
    "name": "ipython",
    "version": 3
   },
   "file_extension": ".py",
   "mimetype": "text/x-python",
   "name": "python",
   "nbconvert_exporter": "python",
   "pygments_lexer": "ipython3",
   "version": "3.11.5"
  }
 },
 "nbformat": 4,
 "nbformat_minor": 5
}
